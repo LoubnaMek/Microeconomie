{
 "cells": [
  {
   "cell_type": "markdown",
   "metadata": {},
   "source": [
    "## Question 1. Solution analytique pour la fonction de chaque bien\n",
    "\n",
    "La fonction d'utilité est donné par:\n",
    "$$u(C,N) = \\left(\\alpha*C^{\\rho} + (1-\\alpha)*N^{\\rho} \\right)^{\\tfrac{1}{\\rho}} $$"
   ]
  },
  {
   "cell_type": "markdown",
   "metadata": {},
   "source": [
    "étant donnée la contrainte \n",
    "\n",
    "$$ PcC+ PnN ≤ I $$"
   ]
  },
  {
   "cell_type": "markdown",
   "metadata": {},
   "source": [
    "##  On considère la situation initale:"
   ]
  },
  {
   "cell_type": "code",
   "execution_count": 81,
   "metadata": {},
   "outputs": [],
   "source": [
    "pc= 2\n",
    "pn= 1\n",
    "alpha=0.7\n",
    "rho=0.5\n",
    "I=100"
   ]
  },
  {
   "cell_type": "markdown",
   "metadata": {},
   "source": [
    " Les demandes marshalliennes sont donnée par \n",
    "\n",
    "$$ C^*(pC,pN,{\\alpha},{\\rho},I) $$\n",
    "$$ Y^*(pC,pN,\\alpha,\\rho, I) $$"
   ]
  },
  {
   "cell_type": "code",
   "execution_count": 113,
   "metadata": {},
   "outputs": [
    {
     "name": "stdout",
     "output_type": "stream",
     "text": [
      "La quantité pour les biens à forte intensité en carbonne est de 36.56716417910447\n",
      "La quantité pour les autres bien est de 26.865671641791053\n"
     ]
    }
   ],
   "source": [
    "#Les demandes d'uitlité: \n",
    "\n",
    "def u(c,n,alpha,rho):\n",
    "    sub = ((1-alpha)*n**rho)\n",
    "    subs = (alpha*c**rho)+sub\n",
    "    return subs**(1/rho)\n",
    "\n",
    "def C_star(c,n,alpha,rho):\n",
    "    sub = ((1-alpha)*n**rho)\n",
    "    subs = (alpha*c**rho)+sub\n",
    "    return (1/rho)*(subs**(1/rho-1))*rho*(alpha*c**(rho-1.0))\n",
    "    \n",
    "def N_star(c,n,alpha,rho):\n",
    "    sub = ((1-alpha)*n**rho)\n",
    "    subs = (alpha*c**rho)+sub\n",
    "    return (1/rho)*(subs**(1/rho-1))*rho*((1-alpha)*n**(rho-1.0))\n",
    "\n",
    "#Les demandes marshalliennes (csat, nstar)\n",
    "def cstar(pc,pn,alpha,rho,I):\n",
    "  r = rho/(rho-1)\n",
    "  sub = pc**(r-1)* (1-alpha)**(r-1)\n",
    "  denom = (pc**r*(1-alpha)**(r-1) + pn**r*alpha**(r-1))\n",
    "  return I * sub/denom\n",
    "\n",
    "  \n",
    "def nstar(pc,pn,alpha,rho,I):\n",
    "  r = rho/(rho-1)\n",
    "  sub = (pn*alpha)**(r-1)\n",
    "  denom = (pc**r*(1-alpha)**(r-1) + pn**r*alpha**(r-1))\n",
    "  return I * sub/denom\n",
    "\n",
    "\n",
    "\n",
    "qt_c = cstar (pc,pn,alpha,rho,I)\n",
    "qt_n = nstar (pc,pn,alpha,rho,I)\n",
    "\n",
    "print('La quantité pour les biens à forte intensité en carbonne est de', qt_c)\n",
    "print('La quantité pour les autres bien est de', qt_n)"
   ]
  },
  {
   "cell_type": "markdown",
   "metadata": {},
   "source": [
    "## Question 2. L'élasticité revenu des biens à fort intensité carbone. "
   ]
  },
  {
   "cell_type": "markdown",
   "metadata": {},
   "source": [
    "La part de chaque type de bien dans le budget"
   ]
  },
  {
   "cell_type": "code",
   "execution_count": 84,
   "metadata": {},
   "outputs": [
    {
     "name": "stdout",
     "output_type": "stream",
     "text": [
      "le Budget des biens à forte intensité en carbonne est de 73.13432835820895\n",
      "Le budget des autres biens est de 26.865671641791057\n"
     ]
    }
   ],
   "source": [
    "def Sc (pc,pn,alpha,rho,I):\n",
    "    return (pc*(cstar(pc,pn,alpha,rho,I))/I*100)\n",
    "\n",
    "def Sn (pc,pn,alpha,rho,I):\n",
    "    return (pn*(nstar(pc,pn,alpha,rho,I))/I*100)\n",
    "\n",
    "Budget_c = Sc(pc,pn,alpha,rho,I)\n",
    "Budget_n = Sn(pc,pn,alpha,rho,I)\n",
    "\n",
    "print ('le Budget des biens à forte intensité en carbonne est de', Budget_c)\n",
    "print ('Le budget des autres biens est de', Budget_n)"
   ]
  },
  {
   "cell_type": "markdown",
   "metadata": {},
   "source": [
    "## Question 3. Étude sur l'imposation de taxes sur la consommation de biens intensifs en carbone."
   ]
  },
  {
   "cell_type": "markdown",
   "metadata": {},
   "source": [
    "a) Les quantités de chaque bien demandées.   \n",
    "Le nouveau prix des biens intensifs en carbone\n",
    "$$ Pc*(1+\\gamma) $$  \n",
    "\n",
    "\n",
    " $\\gamma$ = 0,1    \n",
    "$$  𝑝̂c = 2*(1+0,1) = 2,2 $$\n",
    "\n",
    "La nouvelle situation :\n"
   ]
  },
  {
   "cell_type": "code",
   "execution_count": 85,
   "metadata": {},
   "outputs": [],
   "source": [
    "pc= 2\n",
    "tpc= 0.1\n",
    "pn=1\n",
    "alpha= 0.7\n",
    "rho= 0.5\n",
    "I= 100"
   ]
  },
  {
   "cell_type": "code",
   "execution_count": 86,
   "metadata": {},
   "outputs": [
    {
     "name": "stdout",
     "output_type": "stream",
     "text": [
      "La nouvelle quantié des biens intensif en carbonne est de 32.37315010570824\n",
      "La nouvelle quantité des autres bien est de 28.77906976744187\n"
     ]
    }
   ],
   "source": [
    "#Les nouvelles demandes marshalliennes en tenant compte la taxe\n",
    "\n",
    "def cstar_taxe(pc,tpc,pn,alpha,rho,I):\n",
    "  r = rho/(rho-1)\n",
    "  pc_taxe = pc*(1+tpc)\n",
    "  sub = pc_taxe**(r-1)*(1-alpha)**(r-1)\n",
    "  denom = (pc_taxe**r*(1-alpha)**(r-1) + pn**r*alpha**(r-1))\n",
    "  return I * sub/denom\n",
    "\n",
    "\n",
    "  \n",
    "def nstar_taxe(pc,tpc,pn,alpha,rho,I):\n",
    "  r = rho/(rho-1)\n",
    "  pc_taxe = pc*(1+tpc)\n",
    "  sub = (pn*alpha)**(r-1)\n",
    "  denom = (pc_taxe**r*(1-alpha)**(r-1) + pn**r*alpha**(r-1))\n",
    "  return I * sub/denom\n",
    "\n",
    "\n",
    "qt_c = cstar_taxe (pc,tpc,pn,alpha,rho,I)\n",
    "qt_n = nstar_taxe (pc,tpc,pn,alpha,rho,I)\n",
    "\n",
    "print('La nouvelle quantié des biens intensif en carbonne est de', qt_c)\n",
    "print('La nouvelle quantité des autres bien est de', qt_n)"
   ]
  },
  {
   "cell_type": "markdown",
   "metadata": {},
   "source": [
    "b) l'impact de l'introduction de la taxe sur la proportion des biens carbones dans le budget."
   ]
  },
  {
   "cell_type": "code",
   "execution_count": 87,
   "metadata": {},
   "outputs": [
    {
     "name": "stdout",
     "output_type": "stream",
     "text": [
      "Le budget avec le changement de prix est de 71.22093023255813\n",
      "Avec une introduction de 10% de taxe, la variation de la parts des bien en carbonne est de  -2.616279069767441\n"
     ]
    }
   ],
   "source": [
    "#La nouvelle part dans le budget des bien intensifs en carbonne\n",
    "\n",
    "def Sc_taxe(pc,tpc,pn,alpha,rho,I):\n",
    "    pc_taxe = pc*(1+tpc)\n",
    "    return (pc_taxe*(cstar(pc_taxe,pn,alpha,rho,I))/I*100)\n",
    "\n",
    "Budget_ctaxe = Sc_taxe(pc,tpc,pn,alpha,rho,I)\n",
    "\n",
    "delta_budget = ((Budget_ctaxe-Budget_c)/Budget_c)*100\n",
    "\n",
    "\n",
    "\n",
    "print ('Le budget avec le changement de prix est de', Budget_ctaxe)\n",
    "print ('Avec une introduction de 10% de taxe, la variation de la parts des bien en carbonne est de ', delta_budget)"
   ]
  },
  {
   "cell_type": "markdown",
   "metadata": {},
   "source": [
    "c) La variation de la part du bien à forte intensité de carbone dans le budget en fonction de $\\gamma$"
   ]
  },
  {
   "cell_type": "code",
   "execution_count": 88,
   "metadata": {},
   "outputs": [
    {
     "data": {
      "image/png": "[encoded data removed]",
      "text/plain": [
       "<Figure size 432x288 with 1 Axes>"
      ]
     },
     "metadata": {
      "needs_background": "light"
     },
     "output_type": "display_data"
    }
   ],
   "source": [
    "#Varier la part du bien par rapport à la taxe imposé\n",
    "\n",
    "import numpy as np \n",
    "dpcs = np.linspace(0.05,0.75,30)\n",
    "\n",
    "Budgets_c = [Sc_taxe(2,tpc,1,0.7,0.5,100) for tpc in dpcs]\n",
    "\n",
    "import matplotlib.pyplot as plt\n",
    "\n",
    "plt.figure()\n",
    "plt.plot(dpcs,Budgets_c)\n",
    "plt.xlabel('changement de la taxe')\n",
    "plt.ylabel('Part du Budget pour le bien carbonne')\n",
    "plt.show()\n"
   ]
  },
  {
   "cell_type": "markdown",
   "metadata": {},
   "source": [
    "Le graphique indique une variation négative de la part du bien à forte intensité de carbone dans le budget en fonction de $\\gamma$, soit la taxe. De ca fait, plus le gouverement impose une taxe plus importante, plus la part dans le budget pour le bien à forte intensité en carbonne diminue."
   ]
  },
  {
   "cell_type": "markdown",
   "metadata": {},
   "source": [
    "## Question 4. Le revenu compensé \n",
    "\n",
    "Rappel de la situation après taxe"
   ]
  },
  {
   "cell_type": "code",
   "execution_count": 89,
   "metadata": {},
   "outputs": [],
   "source": [
    "pc= 2\n",
    "tpc= 0.1\n",
    "pn= 1\n",
    "alpha=0.7\n",
    "rho=0.5\n",
    "I=100"
   ]
  },
  {
   "cell_type": "markdown",
   "metadata": {},
   "source": [
    "a) Calcul de la demande compensée des bien intensifs en carbonne"
   ]
  },
  {
   "cell_type": "code",
   "execution_count": 90,
   "metadata": {},
   "outputs": [
    {
     "name": "stdout",
     "output_type": "stream",
     "text": [
      "7.122093023257037\n"
     ]
    }
   ],
   "source": [
    "#La demande compensée\n",
    "\n",
    "def vstar (pc,pn,alpha,rho,I):\n",
    "    sub = 1/rho\n",
    "    C = (alpha*cstar(pc,pn,alpha,rho,I)**rho)\n",
    "    N = ((1-alpha)*nstar(pc,pn,alpha,rho,I)**rho)\n",
    "    return (C+N)**sub\n",
    "\n",
    "def slack(cmp,pc,tpc,pn,alpha,rho,I):\n",
    "  pc_taxe= pc*(1+tpc)\n",
    "  return vstar(pc,pn,alpha,rho,I) - vstar(pc_taxe,pn,alpha,rho,(I+cmp))\n",
    "  \n",
    "from scipy.optimize import bisect\n",
    "def compens(pc,tpc,pn,alpha,rho,I):\n",
    "  return bisect(slack,0,I,args=(pc,tpc,pn,alpha,rho,I))\n",
    "\n",
    "\n",
    "cmp = compens(pc,tpc,pn,alpha,rho,I)\n",
    "\n",
    "print (cmp)\n",
    "\n"
   ]
  },
  {
   "cell_type": "markdown",
   "metadata": {},
   "source": [
    "b) Représentation graphique des compensations pour des valeur de $\\gamma$ entre 0.5 et 0.75"
   ]
  },
  {
   "cell_type": "code",
   "execution_count": 91,
   "metadata": {},
   "outputs": [
    {
     "data": {
      "image/png": "[encoded data removed]",
      "text/plain": [
       "<Figure size 432x288 with 1 Axes>"
      ]
     },
     "metadata": {
      "needs_background": "light"
     },
     "output_type": "display_data"
    }
   ],
   "source": [
    "import numpy as np \n",
    "dtpc = np.linspace(0.05,0.75,30)\n",
    "\n",
    "Compenses = [compens(2,tpc,1,0.7,0.5,100) for tpc in dtpc]\n",
    "\n",
    "import matplotlib.pyplot as plt\n",
    "\n",
    "plt.figure()\n",
    "plt.plot(dpcs,Compenses)\n",
    "plt.xlabel('changement de la taxe')\n",
    "plt.ylabel(' Variation de la compensation')\n",
    "plt.show()"
   ]
  },
  {
   "cell_type": "markdown",
   "metadata": {},
   "source": [
    "D'après ce graphique, la compensation exigée par les consommateurs augmente dans le même sens que la variation de la taxe. Donc, quand le gouvernement augmente la taxe sur les bien, il doit aussi augmenter la compensation aux consommateurs."
   ]
  },
  {
   "cell_type": "markdown",
   "metadata": {},
   "source": [
    "c) Comparaison de l'utilié initial et l'utilié compensation"
   ]
  },
  {
   "cell_type": "code",
   "execution_count": 112,
   "metadata": {},
   "outputs": [
    {
     "name": "stdout",
     "output_type": "stream",
     "text": [
      "33.5\n",
      "33.500000000000384\n"
     ]
    }
   ],
   "source": [
    "Uinitial = vstar(pc,pn,alpha,rho,I)\n",
    "Ucompense = vstar((pc*(1+tpc)),pn,alpha,rho,(I+cmp))\n",
    "\n",
    "print (Uinitial)\n",
    "print (Ucompense)"
   ]
  },
  {
   "cell_type": "markdown",
   "metadata": {},
   "source": [
    "## Question 5. La compensation sous forme de transfert forfaitaire"
   ]
  },
  {
   "cell_type": "markdown",
   "metadata": {},
   "source": [
    "a) La demande compensée des biens"
   ]
  },
  {
   "cell_type": "code",
   "execution_count": 123,
   "metadata": {},
   "outputs": [
    {
     "name": "stdout",
     "output_type": "stream",
     "text": [
      "La quantié de bien à forte intensité en carbonne est initiallement de 36.56716417910447\n",
      "Avec la taxe de 10% et sans la compensation, la nouvelle quantité pour le bien en carbonne est de 32.37315010570824\n",
      "Avec la compensation du gouvernement de 7,12%, la nouvelle quantité du bien en carbonne est de 34.67879597079541\n"
     ]
    }
   ],
   "source": [
    "def cstar_cmp(pc,tpc,pn,alpha,rho,I):\n",
    "  Icmp = compens(pc,tpc,pn,alpha,rho,I)+I\n",
    "  pc_taxe = pc*(1+tpc)\n",
    "  r = rho/(rho-1)\n",
    "  sub = pc_taxe**(r-1)*(1-alpha)**(r-1)\n",
    "  denom = (pc_taxe**r*(1-alpha)**(r-1) + pn**r*alpha**(r-1))\n",
    "  return Icmp * sub/denom\n",
    "\n",
    "\n",
    "def nstar_cmp(pc,tpc,pn,alpha,rho,I):\n",
    "  Icmp = compens(pc,tpc,pn,alpha,rho,I)+I\n",
    "  pc_taxe = pc*(1+tpc)\n",
    "  r = rho/(rho-1)\n",
    "  sub = (pn*alpha)**(r-1)\n",
    "  denom = (pc_taxe**r*(1-alpha)**(r-1) + pn**r*alpha**(r-1))\n",
    "  return Icmp * sub/denom\n",
    "\n",
    "\n",
    "qtc_initial = cstar (pc,pn,alpha,rho,I)\n",
    "qtc_taxe = cstar_taxe (pc,tpc,pn,alpha,rho,I)\n",
    "qtc_cmp = cstar_cmp (pc,tpc,pn,alpha,rho,I)\n",
    "\n",
    "print ('La quantié de bien à forte intensité en carbonne est initiallement de', qtc_initial)\n",
    "print ('Avec la taxe de 10% et sans la compensation, la nouvelle quantité pour le bien en carbonne est de', qtc_taxe)\n",
    "print ('Avec la compensation du gouvernement de 7,12%, la nouvelle quantité du bien en carbonne est de', qtc_cmp)\n"
   ]
  },
  {
   "cell_type": "markdown",
   "metadata": {},
   "source": [
    "b) La variation de la quantité des biens en carbonnes"
   ]
  },
  {
   "cell_type": "code",
   "execution_count": 108,
   "metadata": {},
   "outputs": [
    {
     "name": "stdout",
     "output_type": "stream",
     "text": [
      "la demande des biens à forte intensité en carbone varie de -5.164108977824778\n"
     ]
    }
   ],
   "source": [
    "delta_c= ((qtc_cmp - qtc_initial)/qtc_initial)*100\n",
    "\n",
    "print ('la demande des biens à forte intensité en carbone varie de', delta_c)\n"
   ]
  },
  {
   "cell_type": "markdown",
   "metadata": {},
   "source": [
    "## Question 6. Impact du revenu et dépense d'imposer $\\gamma$\n",
    " Impact net en matière de revenu du gouvernement d'imposer une taxe $\\gamma$ et de la dépense de cette compensation"
   ]
  },
  {
   "cell_type": "code",
   "execution_count": 116,
   "metadata": {},
   "outputs": [
    {
     "name": "stdout",
     "output_type": "stream",
     "text": [
      "le revenu avec imposition de taxe est 6.935759194159083\n",
      "La dépense de la compensatoin est 7.122093023257037\n",
      "-0.026162790697830705\n"
     ]
    }
   ],
   "source": [
    "revenu= pc*tpc*qtc_cmp\n",
    "depense = cmp\n",
    "\n",
    "print ('le revenu avec imposition de taxe est', revenu)\n",
    "print ('La dépense de la compensatoin est', depense)\n",
    "print ((revenu-depense)/depense)"
   ]
  },
  {
   "cell_type": "markdown",
   "metadata": {},
   "source": [
    "## Question 7. Impact de $\\alpha$\n",
    "\n",
    "a) Varitation du paramètre $\\alpha$ par rapport à la demande d'émission de carbonne compensée"
   ]
  },
  {
   "cell_type": "code",
   "execution_count": 96,
   "metadata": {},
   "outputs": [
    {
     "data": {
      "image/png": "[encoded data removed]",
      "text/plain": [
       "<Figure size 432x288 with 1 Axes>"
      ]
     },
     "metadata": {
      "needs_background": "light"
     },
     "output_type": "display_data"
    }
   ],
   "source": [
    "#Variation de Alpha par rapport au bien de carbonne compensé\n",
    "\n",
    "alphas = np.linspace(0.1,0.99,30)\n",
    "\n",
    "alpha_cmp = [cstar_cmp (2,0.1,1,alpha,0.5,100) for alpha in alphas]\n",
    "\n",
    "\n",
    "plt.figure()\n",
    "plt.plot(alphas,alpha_cmp)\n",
    "plt.xlabel('Variation de Alpha')\n",
    "plt.ylabel(' Variation de alpha par rapport à la quantité compensé')\n",
    "plt.show()"
   ]
  },
  {
   "cell_type": "markdown",
   "metadata": {},
   "source": [
    "b) Variation du paramètre $\\alpha$ par rapport au revenu"
   ]
  },
  {
   "cell_type": "code",
   "execution_count": 120,
   "metadata": {},
   "outputs": [
    {
     "data": {
      "image/png": "[encoded data removed]",
      "text/plain": [
       "<Figure size 432x288 with 1 Axes>"
      ]
     },
     "metadata": {
      "needs_background": "light"
     },
     "output_type": "display_data"
    }
   ],
   "source": [
    "#Variation de Alpha par rapport au revenu\n",
    "\n",
    "alphas = np.linspace(0.01,0.99,30)\n",
    "\n",
    "alpha_revenu = [(cstar_cmp (2,0.1,1,alpha,0.5,100)*pc*tpc) for alpha in alphas]\n",
    "\n",
    "\n",
    "plt.figure()\n",
    "plt.plot(alphas,alpha_cmp)\n",
    "plt.xlabel('Variation de Alpha')\n",
    "plt.ylabel(' Variation de alpha par rapport au revenu')\n",
    "plt.show()"
   ]
  },
  {
   "cell_type": "markdown",
   "metadata": {},
   "source": [
    "Les graphique montre une variation position de $\\alpha$ par rapport à la demande des biens en  carbonne et le revenu. De ce fait, plus le paramètre $\\alpha$ augmente, plus la demande compensé ainsi que le revenu augmente dans le même sens."
   ]
  },
  {
   "cell_type": "markdown",
   "metadata": {},
   "source": [
    "## Question 8. Impact de $\\rho$\n",
    "\n",
    "a) Variation du paramètre $\\rho$ par rapport a la demande compensée des bien intensif en carbonne "
   ]
  },
  {
   "cell_type": "code",
   "execution_count": 121,
   "metadata": {},
   "outputs": [
    {
     "data": {
      "image/png": "[encoded data removed]",
      "text/plain": [
       "<Figure size 432x288 with 1 Axes>"
      ]
     },
     "metadata": {
      "needs_background": "light"
     },
     "output_type": "display_data"
    }
   ],
   "source": [
    "#Variation de Rho par rapport aux bien en carbone compensé\n",
    "\n",
    "rhos = np.linspace(0.01,0.99,30)\n",
    "\n",
    "rho_cmp = [cstar_cmp (2,0.1,1,0.7,rho,100) for rho in rhos]\n",
    "\n",
    "\n",
    "plt.figure()\n",
    "plt.plot(rhos,rho_cmp)\n",
    "plt.xlabel('Variation de Rho')\n",
    "plt.ylabel(' La demande des bien en carbonne')\n",
    "plt.show()"
   ]
  },
  {
   "cell_type": "markdown",
   "metadata": {},
   "source": [
    "Le paramètre $\\rho$ augmente positivement par rapport à la demande des bien à forte intensités en carbonne. On remarque que plus le paramètre $\\rho$ est petit, plus la demandé compensé est stable. Par contre, plus ce paramètre augmente, plus la demande compensée des biens intensifs en carbonne augmente brusquement. "
   ]
  },
  {
   "cell_type": "markdown",
   "metadata": {},
   "source": [
    "## Question 9.  Réagir à la déclation d'un parti polique. \n",
    "\n",
    "\n",
    "##### \"Taxer puis donner des rabais (compensations), c’est comme échanger 4 pièces de 25 cents pour un dollar, ça ne sert à rien\"  \n",
    "\n"
   ]
  },
  {
   "cell_type": "markdown",
   "metadata": {},
   "source": [
    " Le raisonnement de ce parti politique n'est pas valide, ceci peut être expliqueé par les quantités des biens à forte intensité en carbonnes à la question 5.\n",
    "\n",
    " \n",
    "- La quantité initale des biens intensifs en carbonne est de 36,57. Cette hausse de quantité est expliqué par l'absence de pénalité.  \n",
    "- L'imposition uniquement de la taxe du gouvernement engendre une baisse brusque de la quantité de ce bien à 32,37. Cette imposition a pour consequence d'augmenter le prix,donc la consommation de ce bien réduit.  \n",
    "- L'imposition de la taxe avec la compensation engendre une baisse de la quantité à 34,68, mais cette diminution est moindre que celle avec la taxe. La compensation a pour but d'augmenter le revenu des consommateurs tout en imposant des resctiction. Malgré l'augmentation du revenu, le prix demeure élevée, donc ce n'est pas tous les consommateurs qui seront capable de consommer ce bien.    \n"
   ]
  },
  {
   "cell_type": "markdown",
   "metadata": {},
   "source": []
  }
 ],
 "metadata": {
  "kernelspec": {
   "display_name": "Python 3.9.12 ('base')",
   "language": "python",
   "name": "python3"
  },
  "language_info": {
   "codemirror_mode": {
    "name": "ipython",
    "version": 3
   },
   "file_extension": ".py",
   "mimetype": "text/x-python",
   "name": "python",
   "nbconvert_exporter": "python",
   "pygments_lexer": "ipython3",
   "version": "3.9.12"
  },
  "orig_nbformat": 4,
  "vscode": {
   "interpreter": {
    "hash": "793de3b78a629ea0b842d0d73fcd2eec7bef5756bc8d245f992f93378586c625"
   }
  }
 },
 "nbformat": 4,
 "nbformat_minor": 2
}
