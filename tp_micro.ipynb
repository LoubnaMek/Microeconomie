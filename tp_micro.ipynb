{
 "cells": [
  {
   "cell_type": "markdown",
   "metadata": {},
   "source": [
    "## Question 1 \n",
    "\n",
    "La fonction d'utilité est donné par:\n",
    "$$u(C,N) = \\left(\\alpha*C^{\\rho} + (1-\\alpha)*N^{\\rho} \\right)^{\\tfrac{1}{\\rho}} $$"
   ]
  },
  {
   "cell_type": "markdown",
   "metadata": {},
   "source": [
    "étant donnée la contrainte \n",
    "\n",
    "$$ PcC+ PnN ≤ I $$"
   ]
  },
  {
   "cell_type": "markdown",
   "metadata": {},
   "source": [
    "#  On considère la situation initale:"
   ]
  },
  {
   "cell_type": "code",
   "execution_count": 2,
   "metadata": {},
   "outputs": [],
   "source": [
    "pc= 2\n",
    "pn= 1\n",
    "alpha=0.7\n",
    "rho=0.5\n",
    "I=100"
   ]
  },
  {
   "cell_type": "markdown",
   "metadata": {},
   "source": [
    " Les demandes marshalliennes sont donnée par \n",
    "\n",
    "$$ C^*(pC,pN,{\\alpha},{\\rho},I) $$\n",
    "$$ Y^*(pC,pN,\\alpha,\\rho, I) $$"
   ]
  },
  {
   "cell_type": "code",
   "execution_count": 3,
   "metadata": {},
   "outputs": [],
   "source": [
    "def u(c,n,alpha,rho):\n",
    "    sub = ((1-alpha)*n**rho)\n",
    "    subs = (alpha*c**rho)+sub\n",
    "    return subs**(1/rho)\n",
    "\n",
    "def C_star(c,n,alpha,rho):\n",
    "    sub = ((1-alpha)*n**rho)\n",
    "    subs = (alpha*c**rho)+sub\n",
    "    return (1/rho)*(subs**(1/rho-1))*rho*(alpha*c**(rho-1.0))\n",
    "    \n",
    "def N_star(c,n,alpha,rho):\n",
    "    sub = ((1-alpha)*n**rho)\n",
    "    subs = (alpha*c**rho)+sub\n",
    "    return (1/rho)*(subs**(1/rho-1))*rho*((1-alpha)*n**(rho-1.0))"
   ]
  },
  {
   "cell_type": "code",
   "execution_count": 4,
   "metadata": {},
   "outputs": [
    {
     "name": "stdout",
     "output_type": "stream",
     "text": [
      "La quantité pour les biens à forte intensité en carbonne est de 36.56716417910447\n",
      "La quantité pour les autres bien est de 26.865671641791053\n"
     ]
    }
   ],
   "source": [
    "def cstar(pc,pn,alpha,rho,I):\n",
    "  r = rho/(rho-1)\n",
    "  sub = pc**(r-1)* (1-alpha)**(r-1)\n",
    "  denom = (pc**r*(1-alpha)**(r-1) + pn**r*alpha**(r-1))\n",
    "  return I * sub/denom\n",
    "\n",
    "  \n",
    "def nstar(pc,pn,alpha,rho,I):\n",
    "  r = rho/(rho-1)\n",
    "  sub = (pn*alpha)**(r-1)\n",
    "  denom = (pc**r*(1-alpha)**(r-1) + pn**r*alpha**(r-1))\n",
    "  return I * sub/denom\n",
    "\n",
    "\n",
    "\n",
    "qt_c = cstar (pc,pn,alpha,rho,I)\n",
    "qt_n = nstar (pc,pn,alpha,rho,I)\n",
    "\n",
    "print('La quantité pour les biens à forte intensité en carbonne est de', qt_c)\n",
    "print('La quantité pour les autres bien est de', qt_n)"
   ]
  },
  {
   "cell_type": "markdown",
   "metadata": {},
   "source": [
    "## Question 2 . l'élasticité revenu des biens à fort intensité carbone. "
   ]
  },
  {
   "cell_type": "markdown",
   "metadata": {},
   "source": [
    "La part de chaque type de bien dans le budget"
   ]
  },
  {
   "cell_type": "code",
   "execution_count": 5,
   "metadata": {},
   "outputs": [
    {
     "name": "stdout",
     "output_type": "stream",
     "text": [
      "le Budget des biens à forte intensité en carbonne est de 73.13432835820895\n",
      "Le budget des autres biens est de 26.865671641791057\n"
     ]
    }
   ],
   "source": [
    "def Sc (pc,pn,alpha,rho,I):\n",
    "    return (pc*(cstar(pc,pn,alpha,rho,I))/I*100)\n",
    "\n",
    "def Sn (pc,pn,alpha,rho,I):\n",
    "    return (pn*(nstar(pc,pn,alpha,rho,I))/I*100)\n",
    "\n",
    "Budget_c = Sc(pc,pn,alpha,rho,I)\n",
    "Budget_n = Sn(pc,pn,alpha,rho,I)\n",
    "\n",
    "print ('le Budget des biens à forte intensité en carbonne est de', Budget_c)\n",
    "print ('Le budget des autres biens est de', Budget_n)"
   ]
  },
  {
   "cell_type": "markdown",
   "metadata": {},
   "source": [
    "## Question 3. Étude sur l'imposation de taxes sur la consommation de biens intensifs en carbone."
   ]
  },
  {
   "cell_type": "markdown",
   "metadata": {},
   "source": [
    "a) Le nouveau prix des biens intensifs en carbone\n",
    "$$ Pc*(1+\\gamma) $$\n",
    "\n",
    "\n",
    "$\\gamma$ = 0,1 \n",
    "$$  𝑝̂c = 2*(1+0,1) = 2,2 $$\n",
    "\n",
    "La nouvelle situation :\n"
   ]
  },
  {
   "cell_type": "code",
   "execution_count": 7,
   "metadata": {},
   "outputs": [],
   "source": [
    "pc= 2\n",
    "tpc= 0.1\n",
    "pn=1\n",
    "alpha= 0.7\n",
    "rho= 0.5\n",
    "I= 100"
   ]
  },
  {
   "cell_type": "code",
   "execution_count": 8,
   "metadata": {},
   "outputs": [
    {
     "name": "stdout",
     "output_type": "stream",
     "text": [
      "La nouvelle quantié des biens intensif en carbonne est de 32.37315010570824\n",
      "La nouvelle quantité des autres bien est de 28.77906976744187\n"
     ]
    }
   ],
   "source": [
    "def cstar_taxe(pc,tpc,pn,alpha,rho,I):\n",
    "  r = rho/(rho-1)\n",
    "  pc_taxe = pc*(1+tpc)\n",
    "  sub = pc_taxe**(r-1)*(1-alpha)**(r-1)\n",
    "  denom = (pc_taxe**r*(1-alpha)**(r-1) + pn**r*alpha**(r-1))\n",
    "  return I * sub/denom\n",
    "\n",
    "\n",
    "  \n",
    "def nstar_taxe(pc,tpc,pn,alpha,rho,I):\n",
    "  r = rho/(rho-1)\n",
    "  pc_taxe = pc*(1+tpc)\n",
    "  sub = (pn*alpha)**(r-1)\n",
    "  denom = (pc_taxe**r*(1-alpha)**(r-1) + pn**r*alpha**(r-1))\n",
    "  return I * sub/denom\n",
    "\n",
    "\n",
    "qt_c = cstar_taxe (pc,tpc,pn,alpha,rho,I)\n",
    "qt_n = nstar_taxe (pc,tpc,pn,alpha,rho,I)\n",
    "\n",
    "print('La nouvelle quantié des biens intensif en carbonne est de', qt_c)\n",
    "print('La nouvelle quantité des autres bien est de', qt_n)"
   ]
  },
  {
   "cell_type": "markdown",
   "metadata": {},
   "source": [
    "b) l'impact de l'introduction de la taxe dur la proportion des biens carbones dans le budget"
   ]
  },
  {
   "cell_type": "code",
   "execution_count": 9,
   "metadata": {},
   "outputs": [
    {
     "name": "stdout",
     "output_type": "stream",
     "text": [
      "Le budget avec le changement de prix est de 71.22093023255813\n",
      "Avec une introduction de la taxe de 10%, le budget des biens carbonnes passe de 73.13% à 71.22%\n"
     ]
    }
   ],
   "source": [
    "def Sc_taxe(pc,tpc,pn,alpha,rho,I):\n",
    "    pc_taxe = pc*(1+tpc)\n",
    "    return (pc_taxe*(cstar(pc_taxe,pn,alpha,rho,I))/I*100)\n",
    "\n",
    "Budget_c = Sc_taxe(pc,tpc,pn,alpha,rho,I)\n",
    "\n",
    "\n",
    "print ('Le budget avec le changement de prix est de', Budget_c)\n",
    "print ('Avec une introduction de la taxe de 10%, le budget des biens carbonnes passe de 73.13% à 71.22%',)"
   ]
  },
  {
   "cell_type": "markdown",
   "metadata": {},
   "source": [
    "c) La variation de la part du bien èa forte intensité de carbone dans le budget en fonction de $\\gamma$"
   ]
  },
  {
   "cell_type": "code",
   "execution_count": 10,
   "metadata": {},
   "outputs": [
    {
     "data": {
      "image/png": "[encoded data removed]",
      "text/plain": [
       "<Figure size 432x288 with 1 Axes>"
      ]
     },
     "metadata": {
      "needs_background": "light"
     },
     "output_type": "display_data"
    }
   ],
   "source": [
    "import numpy as np \n",
    "dpcs = np.linspace(0.05,0.75,30)\n",
    "\n",
    "Budgets_c = [Sc_taxe(2,tpc,1,0.7,0.5,100) for tpc in dpcs]\n",
    "\n",
    "import matplotlib.pyplot as plt\n",
    "\n",
    "plt.figure()\n",
    "plt.plot(dpcs,Budgets_c)\n",
    "plt.xlabel('changement de la taxe')\n",
    "plt.ylabel('Part du Budget pour le bien carbonne')\n",
    "plt.show()\n"
   ]
  },
  {
   "cell_type": "markdown",
   "metadata": {},
   "source": [
    "## Question 4. La compensation \n",
    "\n",
    "Rappel de la situation après taxe"
   ]
  },
  {
   "cell_type": "code",
   "execution_count": 11,
   "metadata": {},
   "outputs": [],
   "source": [
    "pc= 2\n",
    "tpc= 0.1\n",
    "pn= 1\n",
    "alpha=0.7\n",
    "rho=0.5\n",
    "I=100"
   ]
  },
  {
   "cell_type": "code",
   "execution_count": 12,
   "metadata": {},
   "outputs": [
    {
     "name": "stdout",
     "output_type": "stream",
     "text": [
      "3.608247422680222\n"
     ]
    }
   ],
   "source": [
    "#La compensation\n",
    "def vstar (pc,pn,alpha,rho,I):\n",
    "    sub = 1/rho\n",
    "    C = (alpha*cstar(pc,pn,alpha,rho,I)**rho)\n",
    "    N = ((1-alpha)*nstar(pc,pn,alpha,rho,I)**rho)\n",
    "    return (C+N)**sub\n",
    "\n",
    "def slack(cmp,pc,tpc,pn,alpha,rho,I):\n",
    "   return vstar(pc,pn,alpha,rho,I) - vstar((pc+tpc),pn,alpha,rho,(I+cmp))\n",
    "\n",
    "\n",
    "\n",
    "from scipy.optimize import bisect\n",
    "def compens(pc,tpc,pn,alpha,rho,I):\n",
    "  return bisect(slack,0,I,args=(pc,tpc,pn,alpha,rho,I))\n",
    "\n",
    "\n",
    "cmp = compens(pc,tpc,pn,alpha,rho,I)\n",
    "\n",
    "print (cmp)\n"
   ]
  },
  {
   "cell_type": "markdown",
   "metadata": {},
   "source": [
    "Graphique des compensations pour des valeur de $\\gamma$ entre 0.5 et 0.75"
   ]
  },
  {
   "cell_type": "code",
   "execution_count": 13,
   "metadata": {},
   "outputs": [
    {
     "data": {
      "image/png": "[encoded data removed]",
      "text/plain": [
       "<Figure size 432x288 with 1 Axes>"
      ]
     },
     "metadata": {
      "needs_background": "light"
     },
     "output_type": "display_data"
    }
   ],
   "source": [
    "import numpy as np \n",
    "dtpc = np.linspace(0.05,0.75,30)\n",
    "\n",
    "Compenses = [compens(2,tpc,1,0.7,0.5,100) for tpc in dtpc]\n",
    "\n",
    "import matplotlib.pyplot as plt\n",
    "\n",
    "plt.figure()\n",
    "plt.plot(dpcs,Compenses)\n",
    "plt.xlabel('changement de la taxe')\n",
    "plt.ylabel(' Variation de la compensation')\n",
    "plt.show()"
   ]
  },
  {
   "cell_type": "markdown",
   "metadata": {},
   "source": [
    "Comparaison de l'utilié initial et l'utilié compensation"
   ]
  },
  {
   "cell_type": "code",
   "execution_count": 14,
   "metadata": {},
   "outputs": [
    {
     "name": "stdout",
     "output_type": "stream",
     "text": [
      "33.5\n",
      "33.499999999999936\n"
     ]
    }
   ],
   "source": [
    "Uinitial = vstar(pc,pn,alpha,rho,I)\n",
    "Ucompense = vstar((pc+tpc),pn,alpha,rho,(I+cmp))\n",
    "\n",
    "print (Uinitial)\n",
    "print (Ucompense)"
   ]
  },
  {
   "cell_type": "markdown",
   "metadata": {},
   "source": [
    "## Question 5. "
   ]
  },
  {
   "cell_type": "code",
   "execution_count": 15,
   "metadata": {},
   "outputs": [
    {
     "name": "stdout",
     "output_type": "stream",
     "text": [
      "La quantié de bien à forte intenté en carbonne est initiallement de 36.56716417910447\n",
      "Avec la taxe de 10%, la nouvelle quantité pour le bien en carbonne est de 32.37315010570824\n",
      "Avec la compensation du gouvernement de 3,60%, la nouvelle quantité du bien en carbonne est de 33.54125346003786\n"
     ]
    }
   ],
   "source": [
    "def cstar_cmp(pc,tpc,pn,alpha,rho,I):\n",
    "  Icmp = compens(pc,tpc,pn,alpha,rho,I)+I\n",
    "  pc_taxe = pc*(1+tpc)\n",
    "  r = rho/(rho-1)\n",
    "  sub = pc_taxe**(r-1)*(1-alpha)**(r-1)\n",
    "  denom = (pc_taxe**r*(1-alpha)**(r-1) + pn**r*alpha**(r-1))\n",
    "  return Icmp * sub/denom\n",
    "\n",
    "\n",
    "def nstar_cmp(pc,tpc,pn,alpha,rho,I):\n",
    "  Icmp = compens(pc,tpc,pn,alpha,rho,I)+I\n",
    "  pc_taxe = pc*(1+tpc)\n",
    "  r = rho/(rho-1)\n",
    "  sub = (pn*alpha)**(r-1)\n",
    "  denom = (pc_taxe**r*(1-alpha)**(r-1) + pn**r*alpha**(r-1))\n",
    "  return Icmp * sub/denom\n",
    "\n",
    "\n",
    "qtc_initial = cstar (pc,pn,alpha,rho,I)\n",
    "qtc_taxe = cstar_taxe (pc,tpc,pn,alpha,rho,I)\n",
    "qtc_cmp = cstar_cmp (pc,tpc,pn,alpha,rho,I)\n",
    "\n",
    "print ('La quantié de bien à forte intenté en carbonne est initiallement de', qtc_initial)\n",
    "print ('Avec la taxe de 10%, la nouvelle quantité pour le bien en carbonne est de', qtc_taxe)\n",
    "print ('Avec la compensation du gouvernement de 3,60%, la nouvelle quantité du bien en carbonne est de', qtc_cmp)\n"
   ]
  },
  {
   "cell_type": "markdown",
   "metadata": {},
   "source": [
    "La variation de la quantité des biens en carbonnes"
   ]
  },
  {
   "cell_type": "code",
   "execution_count": null,
   "metadata": {},
   "outputs": [
    {
     "name": "stdout",
     "output_type": "stream",
     "text": [
      "-8.27493951744748\n",
      "une taxe de 10%, engendre une baisse de 8,27% de la demande des biens à forte intensité en carbone\n"
     ]
    }
   ],
   "source": [
    "delta_c= ((qtc_cmp - qtc_initial)/qtc_initial)*100\n",
    "\n",
    "print (delta_c)\n",
    "print ('une taxe de 10%, engendre une baisse de 8,27% de la demande des biens à forte intensité en carbone')"
   ]
  },
  {
   "cell_type": "markdown",
   "metadata": {},
   "source": [
    "## Question 6.\n",
    " Impact net en matière de revenu du gouvernement d'imposer une taxe $\\gamma$ et de la dépense de cette compensation"
   ]
  },
  {
   "cell_type": "code",
   "execution_count": 16,
   "metadata": {},
   "outputs": [
    {
     "name": "stdout",
     "output_type": "stream",
     "text": [
      "le revenu avec imposition de taxe est 6.708250692007572\n",
      "La dépense de la compensatoin est 3.608247422680222\n",
      "1.8591437632136252\n"
     ]
    }
   ],
   "source": [
    "revenu= pc*tpc*qtc_cmp\n",
    "depense = cmp\n",
    "\n",
    "print ('le revenu avec imposition de taxe est', revenu)\n",
    "print ('La dépense de la compensatoin est', depense)\n",
    "print (revenu/depense)"
   ]
  },
  {
   "cell_type": "markdown",
   "metadata": {},
   "source": [
    "## Question 7. \n",
    "\n",
    "Varitation de la variable $\\alpha$"
   ]
  },
  {
   "cell_type": "code",
   "execution_count": 18,
   "metadata": {},
   "outputs": [
    {
     "data": {
      "image/png": "[encoded data removed]",
      "text/plain": [
       "<Figure size 432x288 with 1 Axes>"
      ]
     },
     "metadata": {
      "needs_background": "light"
     },
     "output_type": "display_data"
    }
   ],
   "source": [
    "#Variation de ALpha par rapport au bien de carbonne compensé\n",
    "\n",
    "alphas = np.linspace(0.1,0.99,30)\n",
    "\n",
    "alpha_cmp = [cstar_cmp (2,0.1,1,alpha,0.5,100) for alpha in alphas]\n",
    "\n",
    "\n",
    "plt.figure()\n",
    "plt.plot(alphas,alpha_cmp)\n",
    "plt.xlabel('Variation de Alpha')\n",
    "plt.ylabel(' Variation de alpha par rapport à la quantité compensé')\n",
    "plt.show()"
   ]
  },
  {
   "cell_type": "code",
   "execution_count": 20,
   "metadata": {},
   "outputs": [
    {
     "data": {
      "image/png": "[encoded data removed]",
      "text/plain": [
       "<Figure size 432x288 with 1 Axes>"
      ]
     },
     "metadata": {
      "needs_background": "light"
     },
     "output_type": "display_data"
    }
   ],
   "source": [
    "#Variation de ALpha par rapport au revenu\n",
    "\n",
    "alphas = np.linspace(0.1,0.99,30)\n",
    "\n",
    "alpha_revenu = [(cstar_cmp (2,0.1,1,alpha,0.5,100)*pc*tpc) for alpha in alphas]\n",
    "\n",
    "\n",
    "plt.figure()\n",
    "plt.plot(alphas,alpha_cmp)\n",
    "plt.xlabel('Variation de Alpha')\n",
    "plt.ylabel(' Variation de alpha par rapport au revenu')\n",
    "plt.show()"
   ]
  },
  {
   "cell_type": "markdown",
   "metadata": {},
   "source": [
    "# Question 8."
   ]
  },
  {
   "cell_type": "code",
   "execution_count": 22,
   "metadata": {},
   "outputs": [
    {
     "data": {
      "image/png": "[encoded data removed]",
      "text/plain": [
       "<Figure size 432x288 with 1 Axes>"
      ]
     },
     "metadata": {
      "needs_background": "light"
     },
     "output_type": "display_data"
    }
   ],
   "source": [
    "#Variation de Rho par rapport aux bien en carbone compensé\n",
    "\n",
    "rhos = np.linspace(0.1,0.99,30)\n",
    "\n",
    "rho_cmp = [cstar_cmp (2,0.1,1,0.7,rho,100) for rho in rhos]\n",
    "\n",
    "\n",
    "plt.figure()\n",
    "plt.plot(rhos,rho_cmp)\n",
    "plt.xlabel('Variation de Alpha')\n",
    "plt.ylabel(' Variation de alpha par rapport au revenu')\n",
    "plt.show()"
   ]
  },
  {
   "cell_type": "code",
   "execution_count": 23,
   "metadata": {},
   "outputs": [
    {
     "data": {
      "image/png": "[encoded data removed]",
      "text/plain": [
       "<Figure size 432x288 with 1 Axes>"
      ]
     },
     "metadata": {
      "needs_background": "light"
     },
     "output_type": "display_data"
    }
   ],
   "source": [
    "#Variation de Rho par rapport aux revenu\n",
    "\n",
    "rhos = np.linspace(0.1,0.99,30)\n",
    "\n",
    "rho_revenu = [(cstar_cmp (2,0.1,1,0.7,rho,100)*pc*tpc) for rho in rhos]\n",
    "\n",
    "\n",
    "plt.figure()\n",
    "plt.plot(rhos,rho_revenu)\n",
    "plt.xlabel('Variation de Alpha')\n",
    "plt.ylabel(' Variation de alpha par rapport au revenu')\n",
    "plt.show()"
   ]
  }
 ],
 "metadata": {
  "kernelspec": {
   "display_name": "Python 3.9.12 ('base')",
   "language": "python",
   "name": "python3"
  },
  "language_info": {
   "codemirror_mode": {
    "name": "ipython",
    "version": 3
   },
   "file_extension": ".py",
   "mimetype": "text/x-python",
   "name": "python",
   "nbconvert_exporter": "python",
   "pygments_lexer": "ipython3",
   "version": "3.9.12"
  },
  "orig_nbformat": 4,
  "vscode": {
   "interpreter": {
    "hash": "793de3b78a629ea0b842d0d73fcd2eec7bef5756bc8d245f992f93378586c625"
   }
  }
 },
 "nbformat": 4,
 "nbformat_minor": 2
}
